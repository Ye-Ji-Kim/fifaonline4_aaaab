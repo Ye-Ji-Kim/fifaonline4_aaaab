{
 "cells": [
  {
   "cell_type": "code",
   "execution_count": 58,
   "metadata": {},
   "outputs": [],
   "source": [
    "# module set\n",
    "import numpy as np\n",
    "import pandas as pd\n",
    "\n",
    "import requests\n",
    "from bs4 import BeautifulSoup as bs\n",
    "from selenium import webdriver\n",
    "from selenium.webdriver.common.keys import Keys\n",
    "from selenium.webdriver.support.ui import Select\n",
    "from selenium.webdriver.common.by import By\n",
    "from selenium.webdriver.support.ui import WebDriverWait\n",
    "from selenium.webdriver.support import expected_conditions as EC\n",
    "import time\n",
    "\n",
    "from collections import OrderedDict\n",
    "from itertools import repeat"
   ]
  },
  {
   "cell_type": "code",
   "execution_count": 59,
   "metadata": {},
   "outputs": [],
   "source": [
    "import os\n",
    "os.chdir('C:/Users/Yeeun/OneDrive/Desktop/Parrot/2020/aaaab')"
   ]
  },
  {
   "cell_type": "code",
   "execution_count": 81,
   "metadata": {},
   "outputs": [],
   "source": [
    "driver = webdriver.Chrome(\"drivers/chromedriver\")\n",
    "driver.implicitly_wait(3)\n",
    "positions = ['st', 'mid', 'def', 'gl']\n",
    "player_url = 'http://fifaonline4.inven.co.kr/dataninfo/player/?code='"
   ]
  },
  {
   "cell_type": "markdown",
   "metadata": {},
   "source": [
    "### **Players' DB** - by Player position"
   ]
  },
  {
   "cell_type": "code",
   "execution_count": 1,
   "metadata": {},
   "outputs": [],
   "source": [
    "def position_db(pos):\n",
    "    # 선수 DB 페이지로 이동\n",
    "\n",
    "    driver.get('http://fifaonline4.inven.co.kr/dataninfo/player/')\n",
    "    driver.implicitly_wait(5)\n",
    "    # 포지션 체크// checkbox의 xpath가 아닌 span 태그의 xpath를 긁어와야 함.\n",
    "    if pos == 'st':\n",
    "        checkbox = driver.find_element_by_xpath('//*[@id=\"fifaonline4Db\"]/div[2]/ul[1]/li[3]/div[2]/div[1]/div[2]/label[1]/span')\n",
    "        checkbox.click()\n",
    "    if pos == 'mid':\n",
    "        checkbox = driver.find_element_by_xpath('//*[@id=\"fifaonline4Db\"]/div[2]/ul[1]/li[3]/div[2]/div[2]/div[2]/label[1]/span')\n",
    "        checkbox.click()\n",
    "    if pos == 'def':\n",
    "        checkbox = driver.find_element_by_xpath('//*[@id=\"fifaonline4Db\"]/div[2]/ul[1]/li[3]/div[2]/div[3]/div[2]/label[1]/span')\n",
    "        checkbox.click()\n",
    "    if pos =='gl':\n",
    "        checkbox = driver.find_element_by_xpath('//*[@id=\"fifaonline4Db\"]/div[2]/ul[1]/li[3]/div[2]/div[4]/div[2]/label[1]/span')\n",
    "        checkbox.click()\n",
    "    search = driver.find_element_by_xpath('//*[@id=\"fifaonline4Db\"]/div[2]/ul[2]/li[17]/button[1]/img')\n",
    "    search.click()"
   ]
  },
  {
   "cell_type": "code",
   "execution_count": 79,
   "metadata": {},
   "outputs": [],
   "source": [
    "def click_by_class(x, y):\n",
    "    seasons = [['LH','TKL','20KL','19S', '19UCL', '20TOTY','20TOTY-N'],\n",
    "          ['NG', 'COC', 'OTW', '19A', '19', 'HOT', '19TOTS'],\n",
    "          ['ICON', 'TC', '18S', 'MC-ICON', '18TOTY', 'GR', '19KFA'],\n",
    "          ['18A', 'TT', 'TB', 'MCFC', '18KFA', 'NHD']]\n",
    "    driver.get('http://fifaonline4.inven.co.kr/dataninfo/player/')\n",
    "    driver.implicitly_wait(5)\n",
    "#     //*[@id=\"fifaonline4Db\"]/div[2]/ul[1]/li[2]/div[2]/div[2]/label[1]/span\n",
    "    temp_path = f'//*[@id=\"fifaonline4Db\"]/div[2]/ul[1]/li[2]/div[2]/div[{x}]/label[{y}]/span'\n",
    "    button = driver.find_element_by_xpath(temp_path).click()\n",
    "    search = driver.find_element_by_xpath('//*[@id=\"fifaonline4Db\"]/div[2]/ul[2]/li[17]/button[1]/img')\n",
    "    search.click()"
   ]
  },
  {
   "cell_type": "code",
   "execution_count": null,
   "metadata": {},
   "outputs": [],
   "source": [
    "click_by_class(1, 1)\n",
    "urls = players_info(driver.page_source(driver))\n",
    "print(urls)"
   ]
  },
  {
   "cell_type": "markdown",
   "metadata": {},
   "source": [
    "### Get players information from DB page\n"
   ]
  },
  {
   "cell_type": "code",
   "execution_count": 39,
   "metadata": {},
   "outputs": [],
   "source": [
    "def players_info(html):\n",
    "    soup = bs(html, 'html.parser')\n",
    "    search_url_list = []\n",
    "    \n",
    "    for link in soup.find_all('a'):\n",
    "        if 'href' in link.attrs:\n",
    "            li = link.attrs['href'].split('\\n')\n",
    "            if li[0].startswith(player_url):\n",
    "                search_url_list.append(li[0])\n",
    "            else:\n",
    "                continue\n",
    "    names = [name.text for name in soup.select('span > b')]\n",
    "    search_url_list = list(OrderedDict(zip(search_url_list, repeat(None))))\n",
    "    print(\"num of url : \", len(search_url_list))\n",
    "    print(search_url_list[:5])\n",
    "#     print(search_url_list)\n",
    "    return search_url_list"
   ]
  },
  {
   "cell_type": "code",
   "execution_count": 9,
   "metadata": {},
   "outputs": [
    {
     "name": "stdout",
     "output_type": "stream",
     "text": [
      "num of url :  500\n",
      "['http://fifaonline4.inven.co.kr/dataninfo/player/?code=101190045', 'http://fifaonline4.inven.co.kr/dataninfo/player/?code=101001114', 'http://fifaonline4.inven.co.kr/dataninfo/player/?code=101242519', 'http://fifaonline4.inven.co.kr/dataninfo/player/?code=101247553', 'http://fifaonline4.inven.co.kr/dataninfo/player/?code=101031432', 'http://fifaonline4.inven.co.kr/dataninfo/player/?code=101001075', 'http://fifaonline4.inven.co.kr/dataninfo/player/?code=101004000', 'http://fifaonline4.inven.co.kr/dataninfo/player/?code=101004231', 'http://fifaonline4.inven.co.kr/dataninfo/player/?code=101045661', 'http://fifaonline4.inven.co.kr/dataninfo/player/?code=101007512', 'http://fifaonline4.inven.co.kr/dataninfo/player/?code=101214267', 'http://fifaonline4.inven.co.kr/dataninfo/player/?code=101247703', 'http://fifaonline4.inven.co.kr/dataninfo/player/?code=101248146', 'http://fifaonline4.inven.co.kr/dataninfo/player/?code=101001201', 'http://fifaonline4.inven.co.kr/dataninfo/player/?code=101214101', 'http://fifaonline4.inven.co.kr/dataninfo/player/?code=101214649', 'http://fifaonline4.inven.co.kr/dataninfo/player/?code=101215732', 'http://fifaonline4.inven.co.kr/dataninfo/player/?code=101000195', 'http://fifaonline4.inven.co.kr/dataninfo/player/?code=101000393', 'http://fifaonline4.inven.co.kr/dataninfo/player/?code=101001845', 'http://fifaonline4.inven.co.kr/dataninfo/player/?code=101222257', 'http://fifaonline4.inven.co.kr/dataninfo/player/?code=220158023', 'http://fifaonline4.inven.co.kr/dataninfo/player/?code=220208722', 'http://fifaonline4.inven.co.kr/dataninfo/player/?code=220231747', 'http://fifaonline4.inven.co.kr/dataninfo/player/?code=224158023', 'http://fifaonline4.inven.co.kr/dataninfo/player/?code=225136553', 'http://fifaonline4.inven.co.kr/dataninfo/player/?code=225180287', 'http://fifaonline4.inven.co.kr/dataninfo/player/?code=224190042', 'http://fifaonline4.inven.co.kr/dataninfo/player/?code=224190043', 'http://fifaonline4.inven.co.kr/dataninfo/player/?code=224011141', 'http://fifaonline4.inven.co.kr/dataninfo/player/?code=224020801', 'http://fifaonline4.inven.co.kr/dataninfo/player/?code=224037576', 'http://fifaonline4.inven.co.kr/dataninfo/player/?code=224242519', 'http://fifaonline4.inven.co.kr/dataninfo/player/?code=224247553', 'http://fifaonline4.inven.co.kr/dataninfo/player/?code=225007489', 'http://fifaonline4.inven.co.kr/dataninfo/player/?code=225136285', 'http://fifaonline4.inven.co.kr/dataninfo/player/?code=225136299', 'http://fifaonline4.inven.co.kr/dataninfo/player/?code=225136717', 'http://fifaonline4.inven.co.kr/dataninfo/player/?code=225242881', 'http://fifaonline4.inven.co.kr/dataninfo/player/?code=225176348', 'http://fifaonline4.inven.co.kr/dataninfo/player/?code=225191910', 'http://fifaonline4.inven.co.kr/dataninfo/player/?code=222188545', 'http://fifaonline4.inven.co.kr/dataninfo/player/?code=222209331', 'http://fifaonline4.inven.co.kr/dataninfo/player/?code=224001625', 'http://fifaonline4.inven.co.kr/dataninfo/player/?code=224028130', 'http://fifaonline4.inven.co.kr/dataninfo/player/?code=216000051', 'http://fifaonline4.inven.co.kr/dataninfo/player/?code=221158023', 'http://fifaonline4.inven.co.kr/dataninfo/player/?code=211020801', 'http://fifaonline4.inven.co.kr/dataninfo/player/?code=216001114', 'http://fifaonline4.inven.co.kr/dataninfo/player/?code=211158023', 'http://fifaonline4.inven.co.kr/dataninfo/player/?code=216001625', 'http://fifaonline4.inven.co.kr/dataninfo/player/?code=224214100', 'http://fifaonline4.inven.co.kr/dataninfo/player/?code=213247396', 'http://fifaonline4.inven.co.kr/dataninfo/player/?code=213247408', 'http://fifaonline4.inven.co.kr/dataninfo/player/?code=221231747', 'http://fifaonline4.inven.co.kr/dataninfo/player/?code=216013128', 'http://fifaonline4.inven.co.kr/dataninfo/player/?code=216020801', 'http://fifaonline4.inven.co.kr/dataninfo/player/?code=216037576', 'http://fifaonline4.inven.co.kr/dataninfo/player/?code=221188545', 'http://fifaonline4.inven.co.kr/dataninfo/player/?code=225136361', 'http://fifaonline4.inven.co.kr/dataninfo/player/?code=225136363', 'http://fifaonline4.inven.co.kr/dataninfo/player/?code=225238224', 'http://fifaonline4.inven.co.kr/dataninfo/player/?code=216158023', 'http://fifaonline4.inven.co.kr/dataninfo/player/?code=502158023', 'http://fifaonline4.inven.co.kr/dataninfo/player/?code=225242888', 'http://fifaonline4.inven.co.kr/dataninfo/player/?code=224176580', 'http://fifaonline4.inven.co.kr/dataninfo/player/?code=224176635', 'http://fifaonline4.inven.co.kr/dataninfo/player/?code=225165889', 'http://fifaonline4.inven.co.kr/dataninfo/player/?code=225176403', 'http://fifaonline4.inven.co.kr/dataninfo/player/?code=224183277', 'http://fifaonline4.inven.co.kr/dataninfo/player/?code=221202652', 'http://fifaonline4.inven.co.kr/dataninfo/player/?code=224184941', 'http://fifaonline4.inven.co.kr/dataninfo/player/?code=222200104', 'http://fifaonline4.inven.co.kr/dataninfo/player/?code=216190045', 'http://fifaonline4.inven.co.kr/dataninfo/player/?code=222202652', 'http://fifaonline4.inven.co.kr/dataninfo/player/?code=216192181', 'http://fifaonline4.inven.co.kr/dataninfo/player/?code=224188545', 'http://fifaonline4.inven.co.kr/dataninfo/player/?code=224189596', 'http://fifaonline4.inven.co.kr/dataninfo/player/?code=221209331', 'http://fifaonline4.inven.co.kr/dataninfo/player/?code=224001114', 'http://fifaonline4.inven.co.kr/dataninfo/player/?code=224190871', 'http://fifaonline4.inven.co.kr/dataninfo/player/?code=224004231', 'http://fifaonline4.inven.co.kr/dataninfo/player/?code=224194765', 'http://fifaonline4.inven.co.kr/dataninfo/player/?code=216214100', 'http://fifaonline4.inven.co.kr/dataninfo/player/?code=224013128', 'http://fifaonline4.inven.co.kr/dataninfo/player/?code=224031432', 'http://fifaonline4.inven.co.kr/dataninfo/player/?code=224041236', 'http://fifaonline4.inven.co.kr/dataninfo/player/?code=224054050', 'http://fifaonline4.inven.co.kr/dataninfo/player/?code=216242519', 'http://fifaonline4.inven.co.kr/dataninfo/player/?code=221165153', 'http://fifaonline4.inven.co.kr/dataninfo/player/?code=224150516', 'http://fifaonline4.inven.co.kr/dataninfo/player/?code=216001075', 'http://fifaonline4.inven.co.kr/dataninfo/player/?code=224153079', 'http://fifaonline4.inven.co.kr/dataninfo/player/?code=221176580', 'http://fifaonline4.inven.co.kr/dataninfo/player/?code=216001201', 'http://fifaonline4.inven.co.kr/dataninfo/player/?code=216005589', 'http://fifaonline4.inven.co.kr/dataninfo/player/?code=216010264', 'http://fifaonline4.inven.co.kr/dataninfo/player/?code=216045661', 'http://fifaonline4.inven.co.kr/dataninfo/player/?code=225237484', 'http://fifaonline4.inven.co.kr/dataninfo/player/?code=216153079', 'http://fifaonline4.inven.co.kr/dataninfo/player/?code=224168542', 'http://fifaonline4.inven.co.kr/dataninfo/player/?code=225136600', 'http://fifaonline4.inven.co.kr/dataninfo/player/?code=221239085', 'http://fifaonline4.inven.co.kr/dataninfo/player/?code=215158023', 'http://fifaonline4.inven.co.kr/dataninfo/player/?code=215159261', 'http://fifaonline4.inven.co.kr/dataninfo/player/?code=215183277', 'http://fifaonline4.inven.co.kr/dataninfo/player/?code=215188545', 'http://fifaonline4.inven.co.kr/dataninfo/player/?code=224178509', 'http://fifaonline4.inven.co.kr/dataninfo/player/?code=217204838', 'http://fifaonline4.inven.co.kr/dataninfo/player/?code=224179813', 'http://fifaonline4.inven.co.kr/dataninfo/player/?code=221200104', 'http://fifaonline4.inven.co.kr/dataninfo/player/?code=217208722', 'http://fifaonline4.inven.co.kr/dataninfo/player/?code=222020801', 'http://fifaonline4.inven.co.kr/dataninfo/player/?code=222153079', 'http://fifaonline4.inven.co.kr/dataninfo/player/?code=225192270', 'http://fifaonline4.inven.co.kr/dataninfo/player/?code=222165153', 'http://fifaonline4.inven.co.kr/dataninfo/player/?code=225194135', 'http://fifaonline4.inven.co.kr/dataninfo/player/?code=221202126', 'http://fifaonline4.inven.co.kr/dataninfo/player/?code=216188350', 'http://fifaonline4.inven.co.kr/dataninfo/player/?code=222183277', 'http://fifaonline4.inven.co.kr/dataninfo/player/?code=216189596', 'http://fifaonline4.inven.co.kr/dataninfo/player/?code=222202126', 'http://fifaonline4.inven.co.kr/dataninfo/player/?code=222208670', 'http://fifaonline4.inven.co.kr/dataninfo/player/?code=217218667', 'http://fifaonline4.inven.co.kr/dataninfo/player/?code=224001075', 'http://fifaonline4.inven.co.kr/dataninfo/player/?code=221208722', 'http://fifaonline4.inven.co.kr/dataninfo/player/?code=224191208', 'http://fifaonline4.inven.co.kr/dataninfo/player/?code=224005589', 'http://fifaonline4.inven.co.kr/dataninfo/player/?code=215231747', 'http://fifaonline4.inven.co.kr/dataninfo/player/?code=224045661', 'http://fifaonline4.inven.co.kr/dataninfo/player/?code=217020801', 'http://fifaonline4.inven.co.kr/dataninfo/player/?code=225225733', 'http://fifaonline4.inven.co.kr/dataninfo/player/?code=217158023', 'http://fifaonline4.inven.co.kr/dataninfo/player/?code=221175943', 'http://fifaonline4.inven.co.kr/dataninfo/player/?code=216001198', 'http://fifaonline4.inven.co.kr/dataninfo/player/?code=211190871', 'http://fifaonline4.inven.co.kr/dataninfo/player/?code=224214267', 'http://fifaonline4.inven.co.kr/dataninfo/player/?code=211231747', 'http://fifaonline4.inven.co.kr/dataninfo/player/?code=216004000', 'http://fifaonline4.inven.co.kr/dataninfo/player/?code=218183277', 'http://fifaonline4.inven.co.kr/dataninfo/player/?code=213247422', 'http://fifaonline4.inven.co.kr/dataninfo/player/?code=216007512', 'http://fifaonline4.inven.co.kr/dataninfo/player/?code=218192505', 'http://fifaonline4.inven.co.kr/dataninfo/player/?code=221183898', 'http://fifaonline4.inven.co.kr/dataninfo/player/?code=218194765', 'http://fifaonline4.inven.co.kr/dataninfo/player/?code=215020801', 'http://fifaonline4.inven.co.kr/dataninfo/player/?code=225241684', 'http://fifaonline4.inven.co.kr/dataninfo/player/?code=214020801', 'http://fifaonline4.inven.co.kr/dataninfo/player/?code=216167397', 'http://fifaonline4.inven.co.kr/dataninfo/player/?code=215153079', 'http://fifaonline4.inven.co.kr/dataninfo/player/?code=215165153', 'http://fifaonline4.inven.co.kr/dataninfo/player/?code=215176580', 'http://fifaonline4.inven.co.kr/dataninfo/player/?code=216173731', 'http://fifaonline4.inven.co.kr/dataninfo/player/?code=224178224', 'http://fifaonline4.inven.co.kr/dataninfo/player/?code=215188567', 'http://fifaonline4.inven.co.kr/dataninfo/player/?code=224180930', 'http://fifaonline4.inven.co.kr/dataninfo/player/?code=214158023', 'http://fifaonline4.inven.co.kr/dataninfo/player/?code=216183277', 'http://fifaonline4.inven.co.kr/dataninfo/player/?code=225198874', 'http://fifaonline4.inven.co.kr/dataninfo/player/?code=215199434', 'http://fifaonline4.inven.co.kr/dataninfo/player/?code=216188567', 'http://fifaonline4.inven.co.kr/dataninfo/player/?code=224183898', 'http://fifaonline4.inven.co.kr/dataninfo/player/?code=222190871', 'http://fifaonline4.inven.co.kr/dataninfo/player/?code=222199434', 'http://fifaonline4.inven.co.kr/dataninfo/player/?code=221204485', 'http://fifaonline4.inven.co.kr/dataninfo/player/?code=215200647', 'http://fifaonline4.inven.co.kr/dataninfo/player/?code=222201942', 'http://fifaonline4.inven.co.kr/dataninfo/player/?code=216191208', 'http://fifaonline4.inven.co.kr/dataninfo/player/?code=222211110', 'http://fifaonline4.inven.co.kr/dataninfo/player/?code=222218667', 'http://fifaonline4.inven.co.kr/dataninfo/player/?code=215208722', 'http://fifaonline4.inven.co.kr/dataninfo/player/?code=215209331', 'http://fifaonline4.inven.co.kr/dataninfo/player/?code=216194765', 'http://fifaonline4.inven.co.kr/dataninfo/player/?code=216202126', 'http://fifaonline4.inven.co.kr/dataninfo/player/?code=224004833', 'http://fifaonline4.inven.co.kr/dataninfo/player/?code=214190045', 'http://fifaonline4.inven.co.kr/dataninfo/player/?code=215226110', 'http://fifaonline4.inven.co.kr/dataninfo/player/?code=217153079', 'http://fifaonline4.inven.co.kr/dataninfo/player/?code=224139068', 'http://fifaonline4.inven.co.kr/dataninfo/player/?code=216000195', 'http://fifaonline4.inven.co.kr/dataninfo/player/?code=224209331', 'http://fifaonline4.inven.co.kr/dataninfo/player/?code=225229694', 'http://fifaonline4.inven.co.kr/dataninfo/player/?code=221180403', 'http://fifaonline4.inven.co.kr/dataninfo/player/?code=224222000', 'http://fifaonline4.inven.co.kr/dataninfo/player/?code=218189242', 'http://fifaonline4.inven.co.kr/dataninfo/player/?code=214001198', 'http://fifaonline4.inven.co.kr/dataninfo/player/?code=216052241', 'http://fifaonline4.inven.co.kr/dataninfo/player/?code=218201399', 'http://fifaonline4.inven.co.kr/dataninfo/player/?code=215143076', 'http://fifaonline4.inven.co.kr/dataninfo/player/?code=216165153', 'http://fifaonline4.inven.co.kr/dataninfo/player/?code=214045661', 'http://fifaonline4.inven.co.kr/dataninfo/player/?code=215175943', 'http://fifaonline4.inven.co.kr/dataninfo/player/?code=215179813', 'http://fifaonline4.inven.co.kr/dataninfo/player/?code=216175943', 'http://fifaonline4.inven.co.kr/dataninfo/player/?code=215183898', 'http://fifaonline4.inven.co.kr/dataninfo/player/?code=216179813', 'http://fifaonline4.inven.co.kr/dataninfo/player/?code=225189224', 'http://fifaonline4.inven.co.kr/dataninfo/player/?code=216180930', 'http://fifaonline4.inven.co.kr/dataninfo/player/?code=215189805', 'http://fifaonline4.inven.co.kr/dataninfo/player/?code=215190871', 'http://fifaonline4.inven.co.kr/dataninfo/player/?code=215192629', 'http://fifaonline4.inven.co.kr/dataninfo/player/?code=216183898', 'http://fifaonline4.inven.co.kr/dataninfo/player/?code=221201399', 'http://fifaonline4.inven.co.kr/dataninfo/player/?code=215194765', 'http://fifaonline4.inven.co.kr/dataninfo/player/?code=215199451', 'http://fifaonline4.inven.co.kr/dataninfo/player/?code=221202556', 'http://fifaonline4.inven.co.kr/dataninfo/player/?code=222188567', 'http://fifaonline4.inven.co.kr/dataninfo/player/?code=219231352', 'http://fifaonline4.inven.co.kr/dataninfo/player/?code=219231478', 'http://fifaonline4.inven.co.kr/dataninfo/player/?code=215202652', 'http://fifaonline4.inven.co.kr/dataninfo/player/?code=216190871', 'http://fifaonline4.inven.co.kr/dataninfo/player/?code=215204970', 'http://fifaonline4.inven.co.kr/dataninfo/player/?code=215208670', 'http://fifaonline4.inven.co.kr/dataninfo/player/?code=216193301', 'http://fifaonline4.inven.co.kr/dataninfo/player/?code=216198219', 'http://fifaonline4.inven.co.kr/dataninfo/player/?code=210158023', 'http://fifaonline4.inven.co.kr/dataninfo/player/?code=503158023', 'http://fifaonline4.inven.co.kr/dataninfo/player/?code=224001198', 'http://fifaonline4.inven.co.kr/dataninfo/player/?code=224191695', 'http://fifaonline4.inven.co.kr/dataninfo/player/?code=215215333', 'http://fifaonline4.inven.co.kr/dataninfo/player/?code=224004000', 'http://fifaonline4.inven.co.kr/dataninfo/player/?code=224192505', 'http://fifaonline4.inven.co.kr/dataninfo/player/?code=221212188', 'http://fifaonline4.inven.co.kr/dataninfo/player/?code=224005419', 'http://fifaonline4.inven.co.kr/dataninfo/player/?code=215223113', 'http://fifaonline4.inven.co.kr/dataninfo/player/?code=224005984', 'http://fifaonline4.inven.co.kr/dataninfo/player/?code=216208830', 'http://fifaonline4.inven.co.kr/dataninfo/player/?code=216209331', 'http://fifaonline4.inven.co.kr/dataninfo/player/?code=219242444', 'http://fifaonline4.inven.co.kr/dataninfo/player/?code=224010264', 'http://fifaonline4.inven.co.kr/dataninfo/player/?code=216214101', 'http://fifaonline4.inven.co.kr/dataninfo/player/?code=216214267', 'http://fifaonline4.inven.co.kr/dataninfo/player/?code=214192181', 'http://fifaonline4.inven.co.kr/dataninfo/player/?code=216216594', 'http://fifaonline4.inven.co.kr/dataninfo/player/?code=224052241', 'http://fifaonline4.inven.co.kr/dataninfo/player/?code=224202652', 'http://fifaonline4.inven.co.kr/dataninfo/player/?code=210192318', 'http://fifaonline4.inven.co.kr/dataninfo/player/?code=224208722', 'http://fifaonline4.inven.co.kr/dataninfo/player/?code=224156353', 'http://fifaonline4.inven.co.kr/dataninfo/player/?code=224156616', 'http://fifaonline4.inven.co.kr/dataninfo/player/?code=224215732', 'http://fifaonline4.inven.co.kr/dataninfo/player/?code=216005419', 'http://fifaonline4.inven.co.kr/dataninfo/player/?code=217184941', 'http://fifaonline4.inven.co.kr/dataninfo/player/?code=224247703', 'http://fifaonline4.inven.co.kr/dataninfo/player/?code=214001075', 'http://fifaonline4.inven.co.kr/dataninfo/player/?code=216106231', 'http://fifaonline4.inven.co.kr/dataninfo/player/?code=216143076', 'http://fifaonline4.inven.co.kr/dataninfo/player/?code=214005589', 'http://fifaonline4.inven.co.kr/dataninfo/player/?code=221189242', 'http://fifaonline4.inven.co.kr/dataninfo/player/?code=214010264', 'http://fifaonline4.inven.co.kr/dataninfo/player/?code=214013128', 'http://fifaonline4.inven.co.kr/dataninfo/player/?code=225139410', 'http://fifaonline4.inven.co.kr/dataninfo/player/?code=214028130', 'http://fifaonline4.inven.co.kr/dataninfo/player/?code=224173731', 'http://fifaonline4.inven.co.kr/dataninfo/player/?code=217201942', 'http://fifaonline4.inven.co.kr/dataninfo/player/?code=217202126', 'http://fifaonline4.inven.co.kr/dataninfo/player/?code=217202652', 'http://fifaonline4.inven.co.kr/dataninfo/player/?code=218226110', 'http://fifaonline4.inven.co.kr/dataninfo/player/?code=216178509', 'http://fifaonline4.inven.co.kr/dataninfo/player/?code=214150418', 'http://fifaonline4.inven.co.kr/dataninfo/player/?code=216179844', 'http://fifaonline4.inven.co.kr/dataninfo/player/?code=215193408', 'http://fifaonline4.inven.co.kr/dataninfo/player/?code=215200104', 'http://fifaonline4.inven.co.kr/dataninfo/player/?code=502190871', 'http://fifaonline4.inven.co.kr/dataninfo/player/?code=219233419', 'http://fifaonline4.inven.co.kr/dataninfo/player/?code=224000051', 'http://fifaonline4.inven.co.kr/dataninfo/player/?code=219235805', 'http://fifaonline4.inven.co.kr/dataninfo/player/?code=219235889', 'http://fifaonline4.inven.co.kr/dataninfo/player/?code=215212188', 'http://fifaonline4.inven.co.kr/dataninfo/player/?code=210054050', 'http://fifaonline4.inven.co.kr/dataninfo/player/?code=210153079', 'http://fifaonline4.inven.co.kr/dataninfo/player/?code=215212616', 'http://fifaonline4.inven.co.kr/dataninfo/player/?code=221211110', 'http://fifaonline4.inven.co.kr/dataninfo/player/?code=210231747', 'http://fifaonline4.inven.co.kr/dataninfo/player/?code=224192318', 'http://fifaonline4.inven.co.kr/dataninfo/player/?code=216203551', 'http://fifaonline4.inven.co.kr/dataninfo/player/?code=215222665', 'http://fifaonline4.inven.co.kr/dataninfo/player/?code=224005680', 'http://fifaonline4.inven.co.kr/dataninfo/player/?code=215224179', 'http://fifaonline4.inven.co.kr/dataninfo/player/?code=224005681', 'http://fifaonline4.inven.co.kr/dataninfo/player/?code=216208596', 'http://fifaonline4.inven.co.kr/dataninfo/player/?code=216212188', 'http://fifaonline4.inven.co.kr/dataninfo/player/?code=221143076', 'http://fifaonline4.inven.co.kr/dataninfo/player/?code=224204485', 'http://fifaonline4.inven.co.kr/dataninfo/player/?code=216000393', 'http://fifaonline4.inven.co.kr/dataninfo/player/?code=224143001', 'http://fifaonline4.inven.co.kr/dataninfo/player/?code=216000570', 'http://fifaonline4.inven.co.kr/dataninfo/player/?code=224148803', 'http://fifaonline4.inven.co.kr/dataninfo/player/?code=214201942', 'http://fifaonline4.inven.co.kr/dataninfo/player/?code=221227796', 'http://fifaonline4.inven.co.kr/dataninfo/player/?code=218167397', 'http://fifaonline4.inven.co.kr/dataninfo/player/?code=216001605', 'http://fifaonline4.inven.co.kr/dataninfo/player/?code=210194765', 'http://fifaonline4.inven.co.kr/dataninfo/player/?code=224214649', 'http://fifaonline4.inven.co.kr/dataninfo/player/?code=213051336', 'http://fifaonline4.inven.co.kr/dataninfo/player/?code=221230666', 'http://fifaonline4.inven.co.kr/dataninfo/player/?code=218183574', 'http://fifaonline4.inven.co.kr/dataninfo/player/?code=207190042', 'http://fifaonline4.inven.co.kr/dataninfo/player/?code=207190043', 'http://fifaonline4.inven.co.kr/dataninfo/player/?code=214000241', 'http://fifaonline4.inven.co.kr/dataninfo/player/?code=502020801', 'http://fifaonline4.inven.co.kr/dataninfo/player/?code=216025420', 'http://fifaonline4.inven.co.kr/dataninfo/player/?code=218199451', 'http://fifaonline4.inven.co.kr/dataninfo/player/?code=214004231', 'http://fifaonline4.inven.co.kr/dataninfo/player/?code=214004833', 'http://fifaonline4.inven.co.kr/dataninfo/player/?code=225136454', 'http://fifaonline4.inven.co.kr/dataninfo/player/?code=214242519', 'http://fifaonline4.inven.co.kr/dataninfo/player/?code=216159261', 'http://fifaonline4.inven.co.kr/dataninfo/player/?code=218205693', 'http://fifaonline4.inven.co.kr/dataninfo/player/?code=218208808', 'http://fifaonline4.inven.co.kr/dataninfo/player/?code=215154472', 'http://fifaonline4.inven.co.kr/dataninfo/player/?code=221193082', 'http://fifaonline4.inven.co.kr/dataninfo/player/?code=210209331', 'http://fifaonline4.inven.co.kr/dataninfo/player/?code=218221992', 'http://fifaonline4.inven.co.kr/dataninfo/player/?code=210211300', 'http://fifaonline4.inven.co.kr/dataninfo/player/?code=500158023', 'http://fifaonline4.inven.co.kr/dataninfo/player/?code=215183574', 'http://fifaonline4.inven.co.kr/dataninfo/player/?code=221198329', 'http://fifaonline4.inven.co.kr/dataninfo/player/?code=216177388', 'http://fifaonline4.inven.co.kr/dataninfo/player/?code=217204485', 'http://fifaonline4.inven.co.kr/dataninfo/player/?code=203020801', 'http://fifaonline4.inven.co.kr/dataninfo/player/?code=203158023', 'http://fifaonline4.inven.co.kr/dataninfo/player/?code=218232432', 'http://fifaonline4.inven.co.kr/dataninfo/player/?code=214156616', 'http://fifaonline4.inven.co.kr/dataninfo/player/?code=215193301', 'http://fifaonline4.inven.co.kr/dataninfo/player/?code=215193983', 'http://fifaonline4.inven.co.kr/dataninfo/player/?code=215194845', 'http://fifaonline4.inven.co.kr/dataninfo/player/?code=503190871', 'http://fifaonline4.inven.co.kr/dataninfo/player/?code=214165153', 'http://fifaonline4.inven.co.kr/dataninfo/player/?code=225199231', 'http://fifaonline4.inven.co.kr/dataninfo/player/?code=215200260', 'http://fifaonline4.inven.co.kr/dataninfo/player/?code=216189575', 'http://fifaonline4.inven.co.kr/dataninfo/player/?code=215200610', 'http://fifaonline4.inven.co.kr/dataninfo/player/?code=214173731', 'http://fifaonline4.inven.co.kr/dataninfo/player/?code=219233064', 'http://fifaonline4.inven.co.kr/dataninfo/player/?code=503020801', 'http://fifaonline4.inven.co.kr/dataninfo/player/?code=215203486', 'http://fifaonline4.inven.co.kr/dataninfo/player/?code=219233113', 'http://fifaonline4.inven.co.kr/dataninfo/player/?code=225202676', 'http://fifaonline4.inven.co.kr/dataninfo/player/?code=216191695', 'http://fifaonline4.inven.co.kr/dataninfo/player/?code=216192387', 'http://fifaonline4.inven.co.kr/dataninfo/player/?code=207020801', 'http://fifaonline4.inven.co.kr/dataninfo/player/?code=207037576', 'http://fifaonline4.inven.co.kr/dataninfo/player/?code=216201942', 'http://fifaonline4.inven.co.kr/dataninfo/player/?code=219238067', 'http://fifaonline4.inven.co.kr/dataninfo/player/?code=216202652', 'http://fifaonline4.inven.co.kr/dataninfo/player/?code=225212260', 'http://fifaonline4.inven.co.kr/dataninfo/player/?code=214188545', 'http://fifaonline4.inven.co.kr/dataninfo/player/?code=216204485', 'http://fifaonline4.inven.co.kr/dataninfo/player/?code=225212791', 'http://fifaonline4.inven.co.kr/dataninfo/player/?code=215222943', 'http://fifaonline4.inven.co.kr/dataninfo/player/?code=210180175', 'http://fifaonline4.inven.co.kr/dataninfo/player/?code=215225953', 'http://fifaonline4.inven.co.kr/dataninfo/player/?code=224007512', 'http://fifaonline4.inven.co.kr/dataninfo/player/?code=224025420', 'http://fifaonline4.inven.co.kr/dataninfo/player/?code=210184941', 'http://fifaonline4.inven.co.kr/dataninfo/player/?code=215232432', 'http://fifaonline4.inven.co.kr/dataninfo/player/?code=501158023', 'http://fifaonline4.inven.co.kr/dataninfo/player/?code=216226110', 'http://fifaonline4.inven.co.kr/dataninfo/player/?code=215235805', 'http://fifaonline4.inven.co.kr/dataninfo/player/?code=210189596', 'http://fifaonline4.inven.co.kr/dataninfo/player/?code=224204838', 'http://fifaonline4.inven.co.kr/dataninfo/player/?code=221167664', 'http://fifaonline4.inven.co.kr/dataninfo/player/?code=224206655', 'http://fifaonline4.inven.co.kr/dataninfo/player/?code=210192505', 'http://fifaonline4.inven.co.kr/dataninfo/player/?code=502183277', 'http://fifaonline4.inven.co.kr/dataninfo/player/?code=217183898', 'http://fifaonline4.inven.co.kr/dataninfo/player/?code=218184200', 'http://fifaonline4.inven.co.kr/dataninfo/player/?code=221231352', 'http://fifaonline4.inven.co.kr/dataninfo/player/?code=224222257', 'http://fifaonline4.inven.co.kr/dataninfo/player/?code=214209331', 'http://fifaonline4.inven.co.kr/dataninfo/player/?code=221183277', 'http://fifaonline4.inven.co.kr/dataninfo/player/?code=207190871', 'http://fifaonline4.inven.co.kr/dataninfo/player/?code=217189242', 'http://fifaonline4.inven.co.kr/dataninfo/player/?code=207192181', 'http://fifaonline4.inven.co.kr/dataninfo/player/?code=210202652', 'http://fifaonline4.inven.co.kr/dataninfo/player/?code=224167664', 'http://fifaonline4.inven.co.kr/dataninfo/player/?code=214005680', 'http://fifaonline4.inven.co.kr/dataninfo/player/?code=214007512', 'http://fifaonline4.inven.co.kr/dataninfo/player/?code=215041236', 'http://fifaonline4.inven.co.kr/dataninfo/player/?code=502209331', 'http://fifaonline4.inven.co.kr/dataninfo/player/?code=225139417', 'http://fifaonline4.inven.co.kr/dataninfo/player/?code=214054050', 'http://fifaonline4.inven.co.kr/dataninfo/player/?code=221243812', 'http://fifaonline4.inven.co.kr/dataninfo/player/?code=210211117', 'http://fifaonline4.inven.co.kr/dataninfo/player/?code=225165894', 'http://fifaonline4.inven.co.kr/dataninfo/player/?code=221198219', 'http://fifaonline4.inven.co.kr/dataninfo/player/?code=221200647', 'http://fifaonline4.inven.co.kr/dataninfo/player/?code=215190813', 'http://fifaonline4.inven.co.kr/dataninfo/player/?code=216183125', 'http://fifaonline4.inven.co.kr/dataninfo/player/?code=216189125', 'http://fifaonline4.inven.co.kr/dataninfo/player/?code=219228819', 'http://fifaonline4.inven.co.kr/dataninfo/player/?code=207001625', 'http://fifaonline4.inven.co.kr/dataninfo/player/?code=219231447', 'http://fifaonline4.inven.co.kr/dataninfo/player/?code=207004833', 'http://fifaonline4.inven.co.kr/dataninfo/player/?code=225202748', 'http://fifaonline4.inven.co.kr/dataninfo/player/?code=219234045', 'http://fifaonline4.inven.co.kr/dataninfo/player/?code=215207807', 'http://fifaonline4.inven.co.kr/dataninfo/player/?code=224188567', 'http://fifaonline4.inven.co.kr/dataninfo/player/?code=216192722', 'http://fifaonline4.inven.co.kr/dataninfo/player/?code=214178088', 'http://fifaonline4.inven.co.kr/dataninfo/player/?code=224189505', 'http://fifaonline4.inven.co.kr/dataninfo/player/?code=215211591', 'http://fifaonline4.inven.co.kr/dataninfo/player/?code=215215330', 'http://fifaonline4.inven.co.kr/dataninfo/player/?code=219239085', 'http://fifaonline4.inven.co.kr/dataninfo/player/?code=210173731', 'http://fifaonline4.inven.co.kr/dataninfo/player/?code=224193130', 'http://fifaonline4.inven.co.kr/dataninfo/player/?code=216207791', 'http://fifaonline4.inven.co.kr/dataninfo/player/?code=215225085', 'http://fifaonline4.inven.co.kr/dataninfo/player/?code=216210935', 'http://fifaonline4.inven.co.kr/dataninfo/player/?code=224007743', 'http://fifaonline4.inven.co.kr/dataninfo/player/?code=214190871', 'http://fifaonline4.inven.co.kr/dataninfo/player/?code=215231443', 'http://fifaonline4.inven.co.kr/dataninfo/player/?code=501183277', 'http://fifaonline4.inven.co.kr/dataninfo/player/?code=210186627', 'http://fifaonline4.inven.co.kr/dataninfo/player/?code=210189242', 'http://fifaonline4.inven.co.kr/dataninfo/player/?code=215242444', 'http://fifaonline4.inven.co.kr/dataninfo/player/?code=225223994', 'http://fifaonline4.inven.co.kr/dataninfo/player/?code=201190043', 'http://fifaonline4.inven.co.kr/dataninfo/player/?code=502231747', 'http://fifaonline4.inven.co.kr/dataninfo/player/?code=224150418', 'http://fifaonline4.inven.co.kr/dataninfo/player/?code=210193301', 'http://fifaonline4.inven.co.kr/dataninfo/player/?code=224215716', 'http://fifaonline4.inven.co.kr/dataninfo/player/?code=224158232', 'http://fifaonline4.inven.co.kr/dataninfo/player/?code=217185195', 'http://fifaonline4.inven.co.kr/dataninfo/player/?code=214208722', 'http://fifaonline4.inven.co.kr/dataninfo/player/?code=218189805', 'http://fifaonline4.inven.co.kr/dataninfo/player/?code=218190813', 'http://fifaonline4.inven.co.kr/dataninfo/player/?code=210201399', 'http://fifaonline4.inven.co.kr/dataninfo/player/?code=207191695', 'http://fifaonline4.inven.co.kr/dataninfo/player/?code=216050294', 'http://fifaonline4.inven.co.kr/dataninfo/player/?code=221185020', 'http://fifaonline4.inven.co.kr/dataninfo/player/?code=224165153', 'http://fifaonline4.inven.co.kr/dataninfo/player/?code=201214267', 'http://fifaonline4.inven.co.kr/dataninfo/player/?code=214001625', 'http://fifaonline4.inven.co.kr/dataninfo/player/?code=224167397', 'http://fifaonline4.inven.co.kr/dataninfo/player/?code=218205070', 'http://fifaonline4.inven.co.kr/dataninfo/player/?code=210204970', 'http://fifaonline4.inven.co.kr/dataninfo/player/?code=500020801', 'http://fifaonline4.inven.co.kr/dataninfo/player/?code=221242444', 'http://fifaonline4.inven.co.kr/dataninfo/player/?code=224175943', 'http://fifaonline4.inven.co.kr/dataninfo/player/?code=216170733', 'http://fifaonline4.inven.co.kr/dataninfo/player/?code=201028130', 'http://fifaonline4.inven.co.kr/dataninfo/player/?code=201037576', 'http://fifaonline4.inven.co.kr/dataninfo/player/?code=202191208', 'http://fifaonline4.inven.co.kr/dataninfo/player/?code=202241684', 'http://fifaonline4.inven.co.kr/dataninfo/player/?code=218224179', 'http://fifaonline4.inven.co.kr/dataninfo/player/?code=502188545', 'http://fifaonline4.inven.co.kr/dataninfo/player/?code=225179947', 'http://fifaonline4.inven.co.kr/dataninfo/player/?code=215189362', 'http://fifaonline4.inven.co.kr/dataninfo/player/?code=225184901', 'http://fifaonline4.inven.co.kr/dataninfo/player/?code=203202126', 'http://fifaonline4.inven.co.kr/dataninfo/player/?code=206020801', 'http://fifaonline4.inven.co.kr/dataninfo/player/?code=207000051', 'http://fifaonline4.inven.co.kr/dataninfo/player/?code=219222357', 'http://fifaonline4.inven.co.kr/dataninfo/player/?code=207000942', 'http://fifaonline4.inven.co.kr/dataninfo/player/?code=221201942', 'http://fifaonline4.inven.co.kr/dataninfo/player/?code=207001198', 'http://fifaonline4.inven.co.kr/dataninfo/player/?code=224184200', 'http://fifaonline4.inven.co.kr/dataninfo/player/?code=210222492', 'http://fifaonline4.inven.co.kr/dataninfo/player/?code=503208722', 'http://fifaonline4.inven.co.kr/dataninfo/player/?code=503209331', 'http://fifaonline4.inven.co.kr/dataninfo/player/?code=206158023', 'http://fifaonline4.inven.co.kr/dataninfo/player/?code=221205175', 'http://fifaonline4.inven.co.kr/dataninfo/player/?code=207222000', 'http://fifaonline4.inven.co.kr/dataninfo/player/?code=219233556', 'http://fifaonline4.inven.co.kr/dataninfo/player/?code=207007512', 'http://fifaonline4.inven.co.kr/dataninfo/player/?code=216192505', 'http://fifaonline4.inven.co.kr/dataninfo/player/?code=225202968', 'http://fifaonline4.inven.co.kr/dataninfo/player/?code=207010264', 'http://fifaonline4.inven.co.kr/dataninfo/player/?code=207013128', 'http://fifaonline4.inven.co.kr/dataninfo/player/?code=219234711', 'http://fifaonline4.inven.co.kr/dataninfo/player/?code=224189242', 'http://fifaonline4.inven.co.kr/dataninfo/player/?code=502176580', 'http://fifaonline4.inven.co.kr/dataninfo/player/?code=225204104', 'http://fifaonline4.inven.co.kr/dataninfo/player/?code=216198717', 'http://fifaonline4.inven.co.kr/dataninfo/player/?code=225208047', 'http://fifaonline4.inven.co.kr/dataninfo/player/?code=210164859', 'http://fifaonline4.inven.co.kr/dataninfo/player/?code=219238227', 'http://fifaonline4.inven.co.kr/dataninfo/player/?code=210171833', 'http://fifaonline4.inven.co.kr/dataninfo/player/?code=219240740', 'http://fifaonline4.inven.co.kr/dataninfo/player/?code=207167397', 'http://fifaonline4.inven.co.kr/dataninfo/player/?code=224193348', 'http://fifaonline4.inven.co.kr/dataninfo/player/?code=215224334', 'http://fifaonline4.inven.co.kr/dataninfo/player/?code=224194365', 'http://fifaonline4.inven.co.kr/dataninfo/player/?code=207173731', 'http://fifaonline4.inven.co.kr/dataninfo/player/?code=207176580', 'http://fifaonline4.inven.co.kr/dataninfo/player/?code=215227476', 'http://fifaonline4.inven.co.kr/dataninfo/player/?code=219243812', 'http://fifaonline4.inven.co.kr/dataninfo/player/?code=217230666', 'http://fifaonline4.inven.co.kr/dataninfo/player/?code=215229435', 'http://fifaonline4.inven.co.kr/dataninfo/player/?code=224200104', 'http://fifaonline4.inven.co.kr/dataninfo/player/?code=216247396', 'http://fifaonline4.inven.co.kr/dataninfo/player/?code=214194765', 'http://fifaonline4.inven.co.kr/dataninfo/player/?code=206183277', 'http://fifaonline4.inven.co.kr/dataninfo/player/?code=210190813', 'http://fifaonline4.inven.co.kr/dataninfo/player/?code=225228861', 'http://fifaonline4.inven.co.kr/dataninfo/player/?code=502183898', 'http://fifaonline4.inven.co.kr/dataninfo/player/?code=218186627', 'http://fifaonline4.inven.co.kr/dataninfo/player/?code=218189068']\n",
      "len st players :  500\n",
      "['http://fifaonline4.inven.co.kr/dataninfo/player/?code=101190045', 'http://fifaonline4.inven.co.kr/dataninfo/player/?code=101001114', 'http://fifaonline4.inven.co.kr/dataninfo/player/?code=101242519', 'http://fifaonline4.inven.co.kr/dataninfo/player/?code=101247553', 'http://fifaonline4.inven.co.kr/dataninfo/player/?code=101031432']\n"
     ]
    }
   ],
   "source": [
    "urls = players_info(driver.page_source)\n",
    "print(\"len st players : \", len(urls))\n",
    "print(urls[:5])"
   ]
  },
  {
   "cell_type": "code",
   "execution_count": 43,
   "metadata": {},
   "outputs": [
    {
     "data": {
      "text/plain": [
       "[]"
      ]
     },
     "execution_count": 43,
     "metadata": {},
     "output_type": "execute_result"
    }
   ],
   "source": [
    "html = driver.page_source\n",
    "soup = bs(html, 'html.parser')\n",
    "soup.find_all('div', attrs = {'data-position':True})"
   ]
  },
  {
   "cell_type": "code",
   "execution_count": null,
   "metadata": {},
   "outputs": [],
   "source": [
    "st = ['st', 'cf', 'rw', 'lw']\n",
    "mid = ['cm', 'cam', 'cdm', 'lm', 'rm']\n",
    "df = ['cb','rb','lb', 'rwb', 'lwb']\n",
    "\n",
    "def get_player_stats(url):\n",
    "    "
   ]
  }
 ],
 "metadata": {
  "kernelspec": {
   "display_name": "Python 3",
   "language": "python",
   "name": "python3"
  },
  "language_info": {
   "codemirror_mode": {
    "name": "ipython",
    "version": 3
   },
   "file_extension": ".py",
   "mimetype": "text/x-python",
   "name": "python",
   "nbconvert_exporter": "python",
   "pygments_lexer": "ipython3",
   "version": "3.6.9"
  }
 },
 "nbformat": 4,
 "nbformat_minor": 2
}
