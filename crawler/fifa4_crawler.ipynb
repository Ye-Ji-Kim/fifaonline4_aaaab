{
 "cells": [
  {
   "cell_type": "code",
   "execution_count": 2,
   "metadata": {},
   "outputs": [],
   "source": [
    "# module set\n",
    "import numpy as np\n",
    "import pandas as pd\n",
    "\n",
    "import requests\n",
    "from bs4 import BeautifulSoup as bs\n",
    "from selenium import webdriver\n",
    "from selenium.webdriver.common.keys import Keys\n",
    "from selenium.webdriver.support.ui import Select\n",
    "from selenium.webdriver.common.by import By\n",
    "from selenium.webdriver.support.ui import WebDriverWait\n",
    "from selenium.webdriver.support import expected_conditions as EC\n",
    "import time\n",
    "from collections import OrderedDict\n",
    "from itertools import repeat"
   ]
  },
  {
   "cell_type": "code",
   "execution_count": 3,
   "metadata": {},
   "outputs": [],
   "source": [
    "import os\n",
    "os.chdir('C:/Users/Yeeun/OneDrive/Desktop/Parrot/2020/aaaab')"
   ]
  },
  {
   "cell_type": "code",
   "execution_count": 4,
   "metadata": {},
   "outputs": [],
   "source": [
    "driver = webdriver.Chrome(\"drivers/chromedriver\")\n",
    "driver.implicitly_wait(3)\n",
    "player_url = 'http://fifaonline4.inven.co.kr/dataninfo/player/?code='"
   ]
  },
  {
   "cell_type": "markdown",
   "metadata": {},
   "source": [
    "### **Players' DB** - by Player position"
   ]
  },
  {
   "cell_type": "code",
   "execution_count": 5,
   "metadata": {},
   "outputs": [],
   "source": [
    "def position_db(pos):\n",
    "    # 선수 DB 페이지로 이동\n",
    "\n",
    "    driver.get('http://fifaonline4.inven.co.kr/dataninfo/player/')\n",
    "    driver.implicitly_wait(5)\n",
    "    # 포지션 체크// checkbox의 xpath가 아닌 span 태그의 xpath를 긁어와야 함.\n",
    "    if pos == 'st':\n",
    "        checkbox = driver.find_element_by_xpath('//*[@id=\"fifaonline4Db\"]/div[2]/ul[1]/li[3]/div[2]/div[1]/div[2]/label[1]/span')\n",
    "        checkbox.click()\n",
    "    if pos == 'mid':\n",
    "        checkbox = driver.find_element_by_xpath('//*[@id=\"fifaonline4Db\"]/div[2]/ul[1]/li[3]/div[2]/div[2]/div[2]/label[1]/span')\n",
    "        checkbox.click()\n",
    "    if pos == 'def':\n",
    "        checkbox = driver.find_element_by_xpath('//*[@id=\"fifaonline4Db\"]/div[2]/ul[1]/li[3]/div[2]/div[3]/div[2]/label[1]/span')\n",
    "        checkbox.click()\n",
    "    if pos =='gl':\n",
    "        checkbox = driver.find_element_by_xpath('//*[@id=\"fifaonline4Db\"]/div[2]/ul[1]/li[3]/div[2]/div[4]/div[2]/label[1]/span')\n",
    "        checkbox.click()\n",
    "    search = driver.find_element_by_xpath('//*[@id=\"fifaonline4Db\"]/div[2]/ul[2]/li[17]/button[1]/img')\n",
    "    search.click()"
   ]
  },
  {
   "cell_type": "markdown",
   "metadata": {},
   "source": [
    "### **Players DB by season(card class)**"
   ]
  },
  {
   "cell_type": "code",
   "execution_count": 6,
   "metadata": {},
   "outputs": [],
   "source": [
    "seasons = [['LH','TKL','20KL','19S', '19UCL', '20TOTY','20TOTY-N'],\n",
    "          ['NG', 'COC', 'OTW', '19A', '19', 'HOT', '19TOTS'],\n",
    "          ['ICON', 'TC', '18S', 'MC-ICON', '18TOTY', 'GR', '19KFA'],\n",
    "          ['18A', 'TT', 'TB', 'MCFC', '18KFA', 'NHD']]"
   ]
  },
  {
   "cell_type": "code",
   "execution_count": 7,
   "metadata": {},
   "outputs": [],
   "source": [
    "def click_by_class(x, y):\n",
    "    driver.get('http://fifaonline4.inven.co.kr/dataninfo/player/')\n",
    "    driver.implicitly_wait(5)\n",
    "#     //*[@id=\"fifaonline4Db\"]/div[2]/ul[1]/li[2]/div[2]/div[2]/label[1]/span\n",
    "    temp_path = f'//*[@id=\"fifaonline4Db\"]/div[2]/ul[1]/li[2]/div[2]/div[{x}]/label[{y}]/span'\n",
    "    button = driver.find_element_by_xpath(temp_path).click()\n",
    "    search = driver.find_element_by_xpath('//*[@id=\"fifaonline4Db\"]/div[2]/ul[2]/li[17]/button[1]/img')\n",
    "    search.click()"
   ]
  },
  {
   "cell_type": "code",
   "execution_count": 8,
   "metadata": {},
   "outputs": [],
   "source": [
    "from tqdm.auto import tqdm"
   ]
  },
  {
   "cell_type": "markdown",
   "metadata": {},
   "source": [
    "### Get players information from DB page\n"
   ]
  },
  {
   "cell_type": "code",
   "execution_count": 9,
   "metadata": {},
   "outputs": [],
   "source": [
    "def players_info(html):\n",
    "    soup = bs(html, 'html.parser')\n",
    "    search_url_list = []\n",
    "    \n",
    "    for link in soup.find_all('a'):\n",
    "        if 'href' in link.attrs:\n",
    "            li = link.attrs['href'].split('\\n')\n",
    "            if li[0].startswith(player_url):\n",
    "                search_url_list.append(li[0])\n",
    "            else:\n",
    "                continue\n",
    "    names = [name.text for name in soup.select('span > b')]\n",
    "    search_url_list = list(OrderedDict(zip(search_url_list, repeat(None))))\n",
    "    print(\"num of url : \", len(search_url_list))\n",
    "    print(search_url_list[:5])\n",
    "#     print(search_url_list)\n",
    "    return search_url_list"
   ]
  },
  {
   "cell_type": "code",
   "execution_count": 10,
   "metadata": {},
   "outputs": [],
   "source": [
    "def StatDB(url_list):\n",
    "    total_df=pd.DataFrame()\n",
    "    \n",
    "    for search_url in tqdm(url_list): # 아까 검색해야할 url 리스트에서 하나씩 가져온다\n",
    "        one_player_page = requests.get(search_url)\n",
    "        one_soup=bs(one_player_page.content,'lxml')\n",
    "        # one_player_db 는 각 선수마다 데이터베이스. 루프 한번 돌 때마다 각 선수의 DB를 일단 긁어옴\n",
    "        one_player_db=one_soup.find_all(\"div\", {\"class\":\"fifa4 db_tooltip\"})\n",
    "    \n",
    "        for db in one_player_db:\n",
    "            detail_dict={}  \n",
    "            for i,p in enumerate(db.find_all(\"p\")):\n",
    "                if i<10:\n",
    "                    if i==0:\n",
    "                        detail_dict['name']=p.text\n",
    "                    elif i==7:\n",
    "                        detail_dict['foot_left']=p.text\n",
    "                    elif i==8:\n",
    "                        detail_dict['foot_right_act']=p.text\n",
    "                    elif i==9:\n",
    "                        detail_dict['specialty']=p.text\n",
    "                else:\n",
    "                    if i%2==0: #홀수면 스탯 이름, 짝수면 스탯 값\n",
    "                        key=p.text\n",
    "                    elif i%2!=0:\n",
    "                        detail_dict[key]=p.text\n",
    "                    \n",
    "        one_df=pd.DataFrame.from_dict(detail_dict, orient='index')\n",
    "        total_df=pd.concat([total_df,one_df], axis=1)\n",
    "    \n",
    "    total_df=total_df.T\n",
    "    total_df['url'] = url_list\n",
    "    \n",
    "    return total_df"
   ]
  },
  {
   "cell_type": "code",
   "execution_count": 19,
   "metadata": {},
   "outputs": [],
   "source": [
    "driver.back()"
   ]
  },
  {
   "cell_type": "code",
   "execution_count": 23,
   "metadata": {},
   "outputs": [],
   "source": [
    "click_by_class(5, 3)"
   ]
  },
  {
   "cell_type": "code",
   "execution_count": 24,
   "metadata": {},
   "outputs": [
    {
     "name": "stdout",
     "output_type": "stream",
     "text": [
      "num of url :  500\n",
      "['http://fifaonline4.inven.co.kr/dataninfo/player/?code=317000041', 'http://fifaonline4.inven.co.kr/dataninfo/player/?code=317173210', 'http://fifaonline4.inven.co.kr/dataninfo/player/?code=317173198', 'http://fifaonline4.inven.co.kr/dataninfo/player/?code=317184943', 'http://fifaonline4.inven.co.kr/dataninfo/player/?code=317009676']\n"
     ]
    },
    {
     "data": {
      "application/vnd.jupyter.widget-view+json": {
       "model_id": "87a44d3bbd3a4edeb1a723b6a954969d",
       "version_major": 2,
       "version_minor": 0
      },
      "text/plain": [
       "HBox(children=(IntProgress(value=0, max=500), HTML(value='')))"
      ]
     },
     "metadata": {},
     "output_type": "display_data"
    },
    {
     "name": "stdout",
     "output_type": "stream",
     "text": [
      "\n"
     ]
    },
    {
     "data": {
      "text/html": [
       "<div>\n",
       "<style scoped>\n",
       "    .dataframe tbody tr th:only-of-type {\n",
       "        vertical-align: middle;\n",
       "    }\n",
       "\n",
       "    .dataframe tbody tr th {\n",
       "        vertical-align: top;\n",
       "    }\n",
       "\n",
       "    .dataframe thead th {\n",
       "        text-align: right;\n",
       "    }\n",
       "</style>\n",
       "<table border=\"1\" class=\"dataframe\">\n",
       "  <thead>\n",
       "    <tr style=\"text-align: right;\">\n",
       "      <th></th>\n",
       "      <th>GK 다이빙</th>\n",
       "      <th>GK 반응속도</th>\n",
       "      <th>GK 위치선정</th>\n",
       "      <th>GK 킥</th>\n",
       "      <th>GK 핸들링</th>\n",
       "      <th>foot_left</th>\n",
       "      <th>foot_right_act</th>\n",
       "      <th>name</th>\n",
       "      <th>specialty</th>\n",
       "      <th>가로채기</th>\n",
       "      <th>...</th>\n",
       "      <th>크로스</th>\n",
       "      <th>킥</th>\n",
       "      <th>태클</th>\n",
       "      <th>패스</th>\n",
       "      <th>페널티 킥</th>\n",
       "      <th>프리킥</th>\n",
       "      <th>피지컬</th>\n",
       "      <th>핸들링</th>\n",
       "      <th>헤더</th>\n",
       "      <th>url</th>\n",
       "    </tr>\n",
       "  </thead>\n",
       "  <tbody>\n",
       "    <tr>\n",
       "      <th>0</th>\n",
       "      <td>9</td>\n",
       "      <td>10</td>\n",
       "      <td>15</td>\n",
       "      <td>9</td>\n",
       "      <td>15</td>\n",
       "      <td>4</td>\n",
       "      <td>5</td>\n",
       "      <td>안드레스 이니에스타 루한</td>\n",
       "      <td>특성예리한 감아차기, 플레이 메이커, 테크니컬 드리블러</td>\n",
       "      <td>62</td>\n",
       "      <td>...</td>\n",
       "      <td>72</td>\n",
       "      <td>NaN</td>\n",
       "      <td>54</td>\n",
       "      <td>80</td>\n",
       "      <td>67</td>\n",
       "      <td>66</td>\n",
       "      <td>54</td>\n",
       "      <td>NaN</td>\n",
       "      <td>51</td>\n",
       "      <td>http://fifaonline4.inven.co.kr/dataninfo/playe...</td>\n",
       "    </tr>\n",
       "    <tr>\n",
       "      <th>0</th>\n",
       "      <td>7</td>\n",
       "      <td>7</td>\n",
       "      <td>5</td>\n",
       "      <td>7</td>\n",
       "      <td>6</td>\n",
       "      <td>4</td>\n",
       "      <td>5</td>\n",
       "      <td>클라우디오 마르키시오</td>\n",
       "      <td>특성유리몸, 화려한 개인기, 중거리 슛 선호</td>\n",
       "      <td>75</td>\n",
       "      <td>...</td>\n",
       "      <td>71</td>\n",
       "      <td>NaN</td>\n",
       "      <td>73</td>\n",
       "      <td>77</td>\n",
       "      <td>73</td>\n",
       "      <td>73</td>\n",
       "      <td>69</td>\n",
       "      <td>NaN</td>\n",
       "      <td>64</td>\n",
       "      <td>http://fifaonline4.inven.co.kr/dataninfo/playe...</td>\n",
       "    </tr>\n",
       "    <tr>\n",
       "      <th>0</th>\n",
       "      <td>7</td>\n",
       "      <td>7</td>\n",
       "      <td>7</td>\n",
       "      <td>7</td>\n",
       "      <td>7</td>\n",
       "      <td>5</td>\n",
       "      <td>3</td>\n",
       "      <td>다비데 아스토리</td>\n",
       "      <td>특성</td>\n",
       "      <td>80</td>\n",
       "      <td>...</td>\n",
       "      <td>34</td>\n",
       "      <td>NaN</td>\n",
       "      <td>79</td>\n",
       "      <td>50</td>\n",
       "      <td>27</td>\n",
       "      <td>19</td>\n",
       "      <td>71</td>\n",
       "      <td>NaN</td>\n",
       "      <td>72</td>\n",
       "      <td>http://fifaonline4.inven.co.kr/dataninfo/playe...</td>\n",
       "    </tr>\n",
       "  </tbody>\n",
       "</table>\n",
       "<p>3 rows × 49 columns</p>\n",
       "</div>"
      ],
      "text/plain": [
       "  GK 다이빙 GK 반응속도 GK 위치선정 GK 킥 GK 핸들링 foot_left foot_right_act           name  \\\n",
       "0      9      10      15    9     15         4              5  안드레스 이니에스타 루한   \n",
       "0      7       7       5    7      6         4              5    클라우디오 마르키시오   \n",
       "0      7       7       7    7      7         5              3       다비데 아스토리   \n",
       "\n",
       "                        specialty 가로채기  \\\n",
       "0  특성예리한 감아차기, 플레이 메이커, 테크니컬 드리블러   62   \n",
       "0        특성유리몸, 화려한 개인기, 중거리 슛 선호   75   \n",
       "0                              특성   80   \n",
       "\n",
       "                         ...                         크로스    킥  태클  패스 페널티 킥  \\\n",
       "0                        ...                          72  NaN  54  80    67   \n",
       "0                        ...                          71  NaN  73  77    73   \n",
       "0                        ...                          34  NaN  79  50    27   \n",
       "\n",
       "  프리킥 피지컬  핸들링  헤더                                                url  \n",
       "0  66  54  NaN  51  http://fifaonline4.inven.co.kr/dataninfo/playe...  \n",
       "0  73  69  NaN  64  http://fifaonline4.inven.co.kr/dataninfo/playe...  \n",
       "0  19  71  NaN  72  http://fifaonline4.inven.co.kr/dataninfo/playe...  \n",
       "\n",
       "[3 rows x 49 columns]"
      ]
     },
     "execution_count": 24,
     "metadata": {},
     "output_type": "execute_result"
    }
   ],
   "source": [
    "urls = players_info(driver.page_source)\n",
    "temp = StatDB(urls)\n",
    "temp.head(3)"
   ]
  },
  {
   "cell_type": "code",
   "execution_count": 25,
   "metadata": {},
   "outputs": [],
   "source": [
    "temp.to_csv(\"_17.csv\")"
   ]
  },
  {
   "cell_type": "code",
   "execution_count": null,
   "metadata": {},
   "outputs": [],
   "source": []
  }
 ],
 "metadata": {
  "kernelspec": {
   "display_name": "Python 3",
   "language": "python",
   "name": "python3"
  },
  "language_info": {
   "codemirror_mode": {
    "name": "ipython",
    "version": 3
   },
   "file_extension": ".py",
   "mimetype": "text/x-python",
   "name": "python",
   "nbconvert_exporter": "python",
   "pygments_lexer": "ipython3",
   "version": "3.6.9"
  }
 },
 "nbformat": 4,
 "nbformat_minor": 2
}
